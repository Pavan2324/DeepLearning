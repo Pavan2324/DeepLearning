{
 "cells": [
  {
   "cell_type": "markdown",
   "metadata": {},
   "source": [
    "# Artificial Neural Network"
   ]
  },
  {
   "cell_type": "code",
   "execution_count": 1,
   "metadata": {},
   "outputs": [],
   "source": [
    "# Part 1 - Data Preprocessing\n",
    "\n",
    "# Importing the libraries\n",
    "import pandas as pd\n",
    "import numpy as np\n",
    "import matplotlib.pyplot as plt"
   ]
  },
  {
   "cell_type": "markdown",
   "metadata": {},
   "source": [
    "# Importing the dataset"
   ]
  },
  {
   "cell_type": "code",
   "execution_count": 2,
   "metadata": {
    "scrolled": true
   },
   "outputs": [
    {
     "data": {
      "text/html": [
       "<div>\n",
       "<style scoped>\n",
       "    .dataframe tbody tr th:only-of-type {\n",
       "        vertical-align: middle;\n",
       "    }\n",
       "\n",
       "    .dataframe tbody tr th {\n",
       "        vertical-align: top;\n",
       "    }\n",
       "\n",
       "    .dataframe thead th {\n",
       "        text-align: right;\n",
       "    }\n",
       "</style>\n",
       "<table border=\"1\" class=\"dataframe\">\n",
       "  <thead>\n",
       "    <tr style=\"text-align: right;\">\n",
       "      <th></th>\n",
       "      <th>RowNumber</th>\n",
       "      <th>CustomerId</th>\n",
       "      <th>Surname</th>\n",
       "      <th>CreditScore</th>\n",
       "      <th>Geography</th>\n",
       "      <th>Gender</th>\n",
       "      <th>Age</th>\n",
       "      <th>Tenure</th>\n",
       "      <th>Balance</th>\n",
       "      <th>NumOfProducts</th>\n",
       "      <th>HasCrCard</th>\n",
       "      <th>IsActiveMember</th>\n",
       "      <th>EstimatedSalary</th>\n",
       "      <th>Exited</th>\n",
       "    </tr>\n",
       "  </thead>\n",
       "  <tbody>\n",
       "    <tr>\n",
       "      <th>0</th>\n",
       "      <td>1</td>\n",
       "      <td>15634602</td>\n",
       "      <td>Hargrave</td>\n",
       "      <td>619</td>\n",
       "      <td>France</td>\n",
       "      <td>Female</td>\n",
       "      <td>42</td>\n",
       "      <td>2</td>\n",
       "      <td>0.00</td>\n",
       "      <td>1</td>\n",
       "      <td>1</td>\n",
       "      <td>1</td>\n",
       "      <td>101348.88</td>\n",
       "      <td>1</td>\n",
       "    </tr>\n",
       "    <tr>\n",
       "      <th>1</th>\n",
       "      <td>2</td>\n",
       "      <td>15647311</td>\n",
       "      <td>Hill</td>\n",
       "      <td>608</td>\n",
       "      <td>Spain</td>\n",
       "      <td>Female</td>\n",
       "      <td>41</td>\n",
       "      <td>1</td>\n",
       "      <td>83807.86</td>\n",
       "      <td>1</td>\n",
       "      <td>0</td>\n",
       "      <td>1</td>\n",
       "      <td>112542.58</td>\n",
       "      <td>0</td>\n",
       "    </tr>\n",
       "    <tr>\n",
       "      <th>2</th>\n",
       "      <td>3</td>\n",
       "      <td>15619304</td>\n",
       "      <td>Onio</td>\n",
       "      <td>502</td>\n",
       "      <td>France</td>\n",
       "      <td>Female</td>\n",
       "      <td>42</td>\n",
       "      <td>8</td>\n",
       "      <td>159660.80</td>\n",
       "      <td>3</td>\n",
       "      <td>1</td>\n",
       "      <td>0</td>\n",
       "      <td>113931.57</td>\n",
       "      <td>1</td>\n",
       "    </tr>\n",
       "    <tr>\n",
       "      <th>3</th>\n",
       "      <td>4</td>\n",
       "      <td>15701354</td>\n",
       "      <td>Boni</td>\n",
       "      <td>699</td>\n",
       "      <td>France</td>\n",
       "      <td>Female</td>\n",
       "      <td>39</td>\n",
       "      <td>1</td>\n",
       "      <td>0.00</td>\n",
       "      <td>2</td>\n",
       "      <td>0</td>\n",
       "      <td>0</td>\n",
       "      <td>93826.63</td>\n",
       "      <td>0</td>\n",
       "    </tr>\n",
       "    <tr>\n",
       "      <th>4</th>\n",
       "      <td>5</td>\n",
       "      <td>15737888</td>\n",
       "      <td>Mitchell</td>\n",
       "      <td>850</td>\n",
       "      <td>Spain</td>\n",
       "      <td>Female</td>\n",
       "      <td>43</td>\n",
       "      <td>2</td>\n",
       "      <td>125510.82</td>\n",
       "      <td>1</td>\n",
       "      <td>1</td>\n",
       "      <td>1</td>\n",
       "      <td>79084.10</td>\n",
       "      <td>0</td>\n",
       "    </tr>\n",
       "    <tr>\n",
       "      <th>...</th>\n",
       "      <td>...</td>\n",
       "      <td>...</td>\n",
       "      <td>...</td>\n",
       "      <td>...</td>\n",
       "      <td>...</td>\n",
       "      <td>...</td>\n",
       "      <td>...</td>\n",
       "      <td>...</td>\n",
       "      <td>...</td>\n",
       "      <td>...</td>\n",
       "      <td>...</td>\n",
       "      <td>...</td>\n",
       "      <td>...</td>\n",
       "      <td>...</td>\n",
       "    </tr>\n",
       "    <tr>\n",
       "      <th>9995</th>\n",
       "      <td>9996</td>\n",
       "      <td>15606229</td>\n",
       "      <td>Obijiaku</td>\n",
       "      <td>771</td>\n",
       "      <td>France</td>\n",
       "      <td>Male</td>\n",
       "      <td>39</td>\n",
       "      <td>5</td>\n",
       "      <td>0.00</td>\n",
       "      <td>2</td>\n",
       "      <td>1</td>\n",
       "      <td>0</td>\n",
       "      <td>96270.64</td>\n",
       "      <td>0</td>\n",
       "    </tr>\n",
       "    <tr>\n",
       "      <th>9996</th>\n",
       "      <td>9997</td>\n",
       "      <td>15569892</td>\n",
       "      <td>Johnstone</td>\n",
       "      <td>516</td>\n",
       "      <td>France</td>\n",
       "      <td>Male</td>\n",
       "      <td>35</td>\n",
       "      <td>10</td>\n",
       "      <td>57369.61</td>\n",
       "      <td>1</td>\n",
       "      <td>1</td>\n",
       "      <td>1</td>\n",
       "      <td>101699.77</td>\n",
       "      <td>0</td>\n",
       "    </tr>\n",
       "    <tr>\n",
       "      <th>9997</th>\n",
       "      <td>9998</td>\n",
       "      <td>15584532</td>\n",
       "      <td>Liu</td>\n",
       "      <td>709</td>\n",
       "      <td>France</td>\n",
       "      <td>Female</td>\n",
       "      <td>36</td>\n",
       "      <td>7</td>\n",
       "      <td>0.00</td>\n",
       "      <td>1</td>\n",
       "      <td>0</td>\n",
       "      <td>1</td>\n",
       "      <td>42085.58</td>\n",
       "      <td>1</td>\n",
       "    </tr>\n",
       "    <tr>\n",
       "      <th>9998</th>\n",
       "      <td>9999</td>\n",
       "      <td>15682355</td>\n",
       "      <td>Sabbatini</td>\n",
       "      <td>772</td>\n",
       "      <td>Germany</td>\n",
       "      <td>Male</td>\n",
       "      <td>42</td>\n",
       "      <td>3</td>\n",
       "      <td>75075.31</td>\n",
       "      <td>2</td>\n",
       "      <td>1</td>\n",
       "      <td>0</td>\n",
       "      <td>92888.52</td>\n",
       "      <td>1</td>\n",
       "    </tr>\n",
       "    <tr>\n",
       "      <th>9999</th>\n",
       "      <td>10000</td>\n",
       "      <td>15628319</td>\n",
       "      <td>Walker</td>\n",
       "      <td>792</td>\n",
       "      <td>France</td>\n",
       "      <td>Female</td>\n",
       "      <td>28</td>\n",
       "      <td>4</td>\n",
       "      <td>130142.79</td>\n",
       "      <td>1</td>\n",
       "      <td>1</td>\n",
       "      <td>0</td>\n",
       "      <td>38190.78</td>\n",
       "      <td>0</td>\n",
       "    </tr>\n",
       "  </tbody>\n",
       "</table>\n",
       "<p>10000 rows × 14 columns</p>\n",
       "</div>"
      ],
      "text/plain": [
       "      RowNumber  CustomerId    Surname  CreditScore Geography  Gender  Age  \\\n",
       "0             1    15634602   Hargrave          619    France  Female   42   \n",
       "1             2    15647311       Hill          608     Spain  Female   41   \n",
       "2             3    15619304       Onio          502    France  Female   42   \n",
       "3             4    15701354       Boni          699    France  Female   39   \n",
       "4             5    15737888   Mitchell          850     Spain  Female   43   \n",
       "...         ...         ...        ...          ...       ...     ...  ...   \n",
       "9995       9996    15606229   Obijiaku          771    France    Male   39   \n",
       "9996       9997    15569892  Johnstone          516    France    Male   35   \n",
       "9997       9998    15584532        Liu          709    France  Female   36   \n",
       "9998       9999    15682355  Sabbatini          772   Germany    Male   42   \n",
       "9999      10000    15628319     Walker          792    France  Female   28   \n",
       "\n",
       "      Tenure    Balance  NumOfProducts  HasCrCard  IsActiveMember  \\\n",
       "0          2       0.00              1          1               1   \n",
       "1          1   83807.86              1          0               1   \n",
       "2          8  159660.80              3          1               0   \n",
       "3          1       0.00              2          0               0   \n",
       "4          2  125510.82              1          1               1   \n",
       "...      ...        ...            ...        ...             ...   \n",
       "9995       5       0.00              2          1               0   \n",
       "9996      10   57369.61              1          1               1   \n",
       "9997       7       0.00              1          0               1   \n",
       "9998       3   75075.31              2          1               0   \n",
       "9999       4  130142.79              1          1               0   \n",
       "\n",
       "      EstimatedSalary  Exited  \n",
       "0           101348.88       1  \n",
       "1           112542.58       0  \n",
       "2           113931.57       1  \n",
       "3            93826.63       0  \n",
       "4            79084.10       0  \n",
       "...               ...     ...  \n",
       "9995         96270.64       0  \n",
       "9996        101699.77       0  \n",
       "9997         42085.58       1  \n",
       "9998         92888.52       1  \n",
       "9999         38190.78       0  \n",
       "\n",
       "[10000 rows x 14 columns]"
      ]
     },
     "execution_count": 2,
     "metadata": {},
     "output_type": "execute_result"
    }
   ],
   "source": [
    "dataset = pd.read_csv('Churn_Modelling.csv')\n",
    "dataset"
   ]
  },
  {
   "cell_type": "code",
   "execution_count": 3,
   "metadata": {},
   "outputs": [],
   "source": [
    "X = dataset.iloc[:,3:13]\n",
    "Y = dataset.iloc[:,13]"
   ]
  },
  {
   "cell_type": "markdown",
   "metadata": {},
   "source": [
    "# Create dummy variables"
   ]
  },
  {
   "cell_type": "code",
   "execution_count": 4,
   "metadata": {},
   "outputs": [],
   "source": [
    "X = pd.get_dummies(X)"
   ]
  },
  {
   "cell_type": "code",
   "execution_count": 5,
   "metadata": {
    "scrolled": true
   },
   "outputs": [
    {
     "data": {
      "text/plain": [
       "(10000, 13)"
      ]
     },
     "execution_count": 5,
     "metadata": {},
     "output_type": "execute_result"
    }
   ],
   "source": [
    "X.shape"
   ]
  },
  {
   "cell_type": "markdown",
   "metadata": {},
   "source": [
    "# Splitting the dataset into the Training set and Test set"
   ]
  },
  {
   "cell_type": "code",
   "execution_count": 6,
   "metadata": {},
   "outputs": [],
   "source": [
    "from sklearn.model_selection import train_test_split\n",
    "X_train,X_test,Y_train,Y_test = train_test_split(X,Y,test_size = 0.2,random_state=42)"
   ]
  },
  {
   "cell_type": "code",
   "execution_count": 7,
   "metadata": {},
   "outputs": [],
   "source": [
    "from sklearn.preprocessing import StandardScaler\n",
    "sc = StandardScaler()"
   ]
  },
  {
   "cell_type": "markdown",
   "metadata": {},
   "source": [
    "# Feature Scaling"
   ]
  },
  {
   "cell_type": "code",
   "execution_count": 8,
   "metadata": {},
   "outputs": [],
   "source": [
    "X_train = sc.fit_transform(X_train)\n",
    "X_test = sc.transform(X_test)"
   ]
  },
  {
   "cell_type": "markdown",
   "metadata": {},
   "source": [
    "# Part 2 - Now let's make the ANN!\n",
    "\n",
    "# Importing the Keras libraries and packages"
   ]
  },
  {
   "cell_type": "code",
   "execution_count": 9,
   "metadata": {},
   "outputs": [],
   "source": [
    "import keras\n",
    "from keras.models import Sequential\n",
    "from keras.layers import Dense\n",
    "from keras.layers import LeakyReLU,PReLU,ELU\n",
    "from keras.layers import Dropout"
   ]
  },
  {
   "cell_type": "code",
   "execution_count": 10,
   "metadata": {},
   "outputs": [],
   "source": [
    "classifier = Sequential()\n",
    "classifier.add(Dense(units = 6, kernel_initializer = 'he_uniform',activation='relu',input_dim=13))\n",
    "classifier.add(Dense(units = 6, kernel_initializer = 'he_uniform',activation='relu'))\n",
    "classifier.add(Dense(units= 1 , kernel_initializer = 'glorot_uniform' , activation = 'sigmoid'))"
   ]
  },
  {
   "cell_type": "code",
   "execution_count": 11,
   "metadata": {},
   "outputs": [],
   "source": [
    "\n",
    "classifier.compile(optimizer = 'Adamax', loss = 'binary_crossentropy',metrics = ['accuracy'])"
   ]
  },
  {
   "cell_type": "code",
   "execution_count": 12,
   "metadata": {},
   "outputs": [
    {
     "name": "stdout",
     "output_type": "stream",
     "text": [
      "Model: \"sequential\"\n",
      "_________________________________________________________________\n",
      "Layer (type)                 Output Shape              Param #   \n",
      "=================================================================\n",
      "dense (Dense)                (None, 6)                 84        \n",
      "_________________________________________________________________\n",
      "dense_1 (Dense)              (None, 6)                 42        \n",
      "_________________________________________________________________\n",
      "dense_2 (Dense)              (None, 1)                 7         \n",
      "=================================================================\n",
      "Total params: 133\n",
      "Trainable params: 133\n",
      "Non-trainable params: 0\n",
      "_________________________________________________________________\n"
     ]
    }
   ],
   "source": [
    "classifier.summary()"
   ]
  },
  {
   "cell_type": "code",
   "execution_count": 13,
   "metadata": {},
   "outputs": [
    {
     "name": "stdout",
     "output_type": "stream",
     "text": [
      "Epoch 1/100\n",
      "168/168 [==============================] - 1s 4ms/step - loss: 0.5709 - accuracy: 0.7848 - val_loss: 0.5289 - val_accuracy: 0.7910\n",
      "Epoch 2/100\n",
      "168/168 [==============================] - 0s 3ms/step - loss: 0.5151 - accuracy: 0.7962 - val_loss: 0.5014 - val_accuracy: 0.7910\n",
      "Epoch 3/100\n",
      "168/168 [==============================] - 0s 3ms/step - loss: 0.4944 - accuracy: 0.7962 - val_loss: 0.4888 - val_accuracy: 0.7910\n",
      "Epoch 4/100\n",
      "168/168 [==============================] - 0s 2ms/step - loss: 0.4820 - accuracy: 0.7962 - val_loss: 0.4805 - val_accuracy: 0.7910\n",
      "Epoch 5/100\n",
      "168/168 [==============================] - 0s 3ms/step - loss: 0.4733 - accuracy: 0.7962 - val_loss: 0.4742 - val_accuracy: 0.7910\n",
      "Epoch 6/100\n",
      "168/168 [==============================] - 0s 2ms/step - loss: 0.4660 - accuracy: 0.7962 - val_loss: 0.4687 - val_accuracy: 0.7910\n",
      "Epoch 7/100\n",
      "168/168 [==============================] - 0s 2ms/step - loss: 0.4596 - accuracy: 0.7962 - val_loss: 0.4640 - val_accuracy: 0.7910\n",
      "Epoch 8/100\n",
      "168/168 [==============================] - 0s 2ms/step - loss: 0.4540 - accuracy: 0.7962 - val_loss: 0.4596 - val_accuracy: 0.7910\n",
      "Epoch 9/100\n",
      "168/168 [==============================] - 0s 2ms/step - loss: 0.4491 - accuracy: 0.7962 - val_loss: 0.4560 - val_accuracy: 0.7910\n",
      "Epoch 10/100\n",
      "168/168 [==============================] - 0s 2ms/step - loss: 0.4450 - accuracy: 0.7962 - val_loss: 0.4531 - val_accuracy: 0.7910\n",
      "Epoch 11/100\n",
      "168/168 [==============================] - 0s 2ms/step - loss: 0.4414 - accuracy: 0.7962 - val_loss: 0.4505 - val_accuracy: 0.7910\n",
      "Epoch 12/100\n",
      "168/168 [==============================] - 0s 2ms/step - loss: 0.4383 - accuracy: 0.7962 - val_loss: 0.4482 - val_accuracy: 0.7910\n",
      "Epoch 13/100\n",
      "168/168 [==============================] - 0s 2ms/step - loss: 0.4355 - accuracy: 0.7962 - val_loss: 0.4462 - val_accuracy: 0.7910\n",
      "Epoch 14/100\n",
      "168/168 [==============================] - 0s 2ms/step - loss: 0.4331 - accuracy: 0.7962 - val_loss: 0.4445 - val_accuracy: 0.7910\n",
      "Epoch 15/100\n",
      "168/168 [==============================] - 0s 2ms/step - loss: 0.4308 - accuracy: 0.7962 - val_loss: 0.4428 - val_accuracy: 0.7910\n",
      "Epoch 16/100\n",
      "168/168 [==============================] - 0s 2ms/step - loss: 0.4287 - accuracy: 0.7962 - val_loss: 0.4414 - val_accuracy: 0.7910\n",
      "Epoch 17/100\n",
      "168/168 [==============================] - 0s 2ms/step - loss: 0.4268 - accuracy: 0.7962 - val_loss: 0.4401 - val_accuracy: 0.7910\n",
      "Epoch 18/100\n",
      "168/168 [==============================] - 0s 2ms/step - loss: 0.4251 - accuracy: 0.7962 - val_loss: 0.4387 - val_accuracy: 0.7910\n",
      "Epoch 19/100\n",
      "168/168 [==============================] - 0s 2ms/step - loss: 0.4236 - accuracy: 0.7962 - val_loss: 0.4377 - val_accuracy: 0.7910\n",
      "Epoch 20/100\n",
      "168/168 [==============================] - 0s 2ms/step - loss: 0.4223 - accuracy: 0.7962 - val_loss: 0.4369 - val_accuracy: 0.7910\n",
      "Epoch 21/100\n",
      "168/168 [==============================] - 0s 3ms/step - loss: 0.4209 - accuracy: 0.7962 - val_loss: 0.4358 - val_accuracy: 0.7910\n",
      "Epoch 22/100\n",
      "168/168 [==============================] - 0s 2ms/step - loss: 0.4197 - accuracy: 0.7974 - val_loss: 0.4348 - val_accuracy: 0.7997\n",
      "Epoch 23/100\n",
      "168/168 [==============================] - 0s 3ms/step - loss: 0.4185 - accuracy: 0.8043 - val_loss: 0.4343 - val_accuracy: 0.8012\n",
      "Epoch 24/100\n",
      "168/168 [==============================] - 0s 3ms/step - loss: 0.4176 - accuracy: 0.8069 - val_loss: 0.4334 - val_accuracy: 0.8039\n",
      "Epoch 25/100\n",
      "168/168 [==============================] - 1s 3ms/step - loss: 0.4166 - accuracy: 0.8085 - val_loss: 0.4327 - val_accuracy: 0.8035\n",
      "Epoch 26/100\n",
      "168/168 [==============================] - 0s 3ms/step - loss: 0.4156 - accuracy: 0.8196 - val_loss: 0.4318 - val_accuracy: 0.8129\n",
      "Epoch 27/100\n",
      "168/168 [==============================] - 0s 2ms/step - loss: 0.4147 - accuracy: 0.8237 - val_loss: 0.4314 - val_accuracy: 0.8141\n",
      "Epoch 28/100\n",
      "168/168 [==============================] - 0s 2ms/step - loss: 0.4139 - accuracy: 0.8242 - val_loss: 0.4309 - val_accuracy: 0.8160\n",
      "Epoch 29/100\n",
      "168/168 [==============================] - 0s 2ms/step - loss: 0.4130 - accuracy: 0.8237 - val_loss: 0.4301 - val_accuracy: 0.8186\n",
      "Epoch 30/100\n",
      "168/168 [==============================] - 0s 2ms/step - loss: 0.4122 - accuracy: 0.8253 - val_loss: 0.4296 - val_accuracy: 0.8205\n",
      "Epoch 31/100\n",
      "168/168 [==============================] - 0s 2ms/step - loss: 0.4114 - accuracy: 0.8265 - val_loss: 0.4288 - val_accuracy: 0.8213\n",
      "Epoch 32/100\n",
      "168/168 [==============================] - 0s 2ms/step - loss: 0.4107 - accuracy: 0.8270 - val_loss: 0.4284 - val_accuracy: 0.8217\n",
      "Epoch 33/100\n",
      "168/168 [==============================] - 0s 2ms/step - loss: 0.4099 - accuracy: 0.8268 - val_loss: 0.4278 - val_accuracy: 0.8213\n",
      "Epoch 34/100\n",
      "168/168 [==============================] - 0s 2ms/step - loss: 0.4092 - accuracy: 0.8274 - val_loss: 0.4271 - val_accuracy: 0.8213\n",
      "Epoch 35/100\n",
      "168/168 [==============================] - 0s 2ms/step - loss: 0.4084 - accuracy: 0.8296 - val_loss: 0.4263 - val_accuracy: 0.8224\n",
      "Epoch 36/100\n",
      "168/168 [==============================] - 0s 2ms/step - loss: 0.4077 - accuracy: 0.8315 - val_loss: 0.4258 - val_accuracy: 0.8239\n",
      "Epoch 37/100\n",
      "168/168 [==============================] - 0s 2ms/step - loss: 0.4069 - accuracy: 0.8313 - val_loss: 0.4252 - val_accuracy: 0.8239\n",
      "Epoch 38/100\n",
      "168/168 [==============================] - 0s 2ms/step - loss: 0.4062 - accuracy: 0.8317 - val_loss: 0.4247 - val_accuracy: 0.8239\n",
      "Epoch 39/100\n",
      "168/168 [==============================] - 0s 2ms/step - loss: 0.4055 - accuracy: 0.8328 - val_loss: 0.4239 - val_accuracy: 0.8239\n",
      "Epoch 40/100\n",
      "168/168 [==============================] - 0s 2ms/step - loss: 0.4047 - accuracy: 0.8322 - val_loss: 0.4233 - val_accuracy: 0.8239\n",
      "Epoch 41/100\n",
      "168/168 [==============================] - 0s 2ms/step - loss: 0.4038 - accuracy: 0.8330 - val_loss: 0.4223 - val_accuracy: 0.8262\n",
      "Epoch 42/100\n",
      "168/168 [==============================] - 0s 2ms/step - loss: 0.4030 - accuracy: 0.8334 - val_loss: 0.4217 - val_accuracy: 0.8258\n",
      "Epoch 43/100\n",
      "168/168 [==============================] - 0s 2ms/step - loss: 0.4021 - accuracy: 0.8336 - val_loss: 0.4206 - val_accuracy: 0.8270\n",
      "Epoch 44/100\n",
      "168/168 [==============================] - 0s 2ms/step - loss: 0.4011 - accuracy: 0.8347 - val_loss: 0.4199 - val_accuracy: 0.8292\n",
      "Epoch 45/100\n",
      "168/168 [==============================] - 0s 2ms/step - loss: 0.4001 - accuracy: 0.8356 - val_loss: 0.4190 - val_accuracy: 0.8307\n",
      "Epoch 46/100\n",
      "168/168 [==============================] - 0s 2ms/step - loss: 0.3989 - accuracy: 0.8367 - val_loss: 0.4180 - val_accuracy: 0.8323\n",
      "Epoch 47/100\n",
      "168/168 [==============================] - 0s 2ms/step - loss: 0.3978 - accuracy: 0.8369 - val_loss: 0.4168 - val_accuracy: 0.8323\n",
      "Epoch 48/100\n",
      "168/168 [==============================] - 0s 2ms/step - loss: 0.3966 - accuracy: 0.8373 - val_loss: 0.4160 - val_accuracy: 0.8326\n",
      "Epoch 49/100\n",
      "168/168 [==============================] - 0s 2ms/step - loss: 0.3952 - accuracy: 0.8380 - val_loss: 0.4142 - val_accuracy: 0.8334\n",
      "Epoch 50/100\n",
      "168/168 [==============================] - 0s 2ms/step - loss: 0.3936 - accuracy: 0.8384 - val_loss: 0.4127 - val_accuracy: 0.8342\n",
      "Epoch 51/100\n",
      "168/168 [==============================] - 0s 2ms/step - loss: 0.3919 - accuracy: 0.8408 - val_loss: 0.4114 - val_accuracy: 0.8357\n",
      "Epoch 52/100\n",
      "168/168 [==============================] - 0s 2ms/step - loss: 0.3900 - accuracy: 0.8412 - val_loss: 0.4102 - val_accuracy: 0.8360\n",
      "Epoch 53/100\n",
      "168/168 [==============================] - 0s 2ms/step - loss: 0.3881 - accuracy: 0.8414 - val_loss: 0.4083 - val_accuracy: 0.8353\n",
      "Epoch 54/100\n",
      "168/168 [==============================] - 0s 2ms/step - loss: 0.3861 - accuracy: 0.8434 - val_loss: 0.4069 - val_accuracy: 0.8357\n",
      "Epoch 55/100\n",
      "168/168 [==============================] - 0s 2ms/step - loss: 0.3840 - accuracy: 0.8436 - val_loss: 0.4053 - val_accuracy: 0.8360\n",
      "Epoch 56/100\n",
      "168/168 [==============================] - 0s 2ms/step - loss: 0.3819 - accuracy: 0.8453 - val_loss: 0.4034 - val_accuracy: 0.8372\n",
      "Epoch 57/100\n",
      "168/168 [==============================] - 0s 2ms/step - loss: 0.3799 - accuracy: 0.8464 - val_loss: 0.4019 - val_accuracy: 0.8372\n"
     ]
    },
    {
     "name": "stdout",
     "output_type": "stream",
     "text": [
      "Epoch 58/100\n",
      "168/168 [==============================] - 0s 2ms/step - loss: 0.3778 - accuracy: 0.8475 - val_loss: 0.4000 - val_accuracy: 0.8379\n",
      "Epoch 59/100\n",
      "168/168 [==============================] - 0s 2ms/step - loss: 0.3757 - accuracy: 0.8492 - val_loss: 0.3981 - val_accuracy: 0.8398\n",
      "Epoch 60/100\n",
      "168/168 [==============================] - 0s 2ms/step - loss: 0.3738 - accuracy: 0.8494 - val_loss: 0.3965 - val_accuracy: 0.8398\n",
      "Epoch 61/100\n",
      "168/168 [==============================] - 0s 2ms/step - loss: 0.3718 - accuracy: 0.8496 - val_loss: 0.3946 - val_accuracy: 0.8410\n",
      "Epoch 62/100\n",
      "168/168 [==============================] - 0s 2ms/step - loss: 0.3700 - accuracy: 0.8513 - val_loss: 0.3928 - val_accuracy: 0.8413\n",
      "Epoch 63/100\n",
      "168/168 [==============================] - 0s 2ms/step - loss: 0.3683 - accuracy: 0.8528 - val_loss: 0.3911 - val_accuracy: 0.8429\n",
      "Epoch 64/100\n",
      "168/168 [==============================] - 0s 2ms/step - loss: 0.3664 - accuracy: 0.8528 - val_loss: 0.3895 - val_accuracy: 0.8444\n",
      "Epoch 65/100\n",
      "168/168 [==============================] - 0s 2ms/step - loss: 0.3648 - accuracy: 0.8552 - val_loss: 0.3881 - val_accuracy: 0.8444\n",
      "Epoch 66/100\n",
      "168/168 [==============================] - 0s 2ms/step - loss: 0.3630 - accuracy: 0.8565 - val_loss: 0.3861 - val_accuracy: 0.8455\n",
      "Epoch 67/100\n",
      "168/168 [==============================] - 0s 2ms/step - loss: 0.3614 - accuracy: 0.8574 - val_loss: 0.3844 - val_accuracy: 0.8463\n",
      "Epoch 68/100\n",
      "168/168 [==============================] - 0s 2ms/step - loss: 0.3598 - accuracy: 0.8582 - val_loss: 0.3831 - val_accuracy: 0.8466\n",
      "Epoch 69/100\n",
      "168/168 [==============================] - 0s 2ms/step - loss: 0.3582 - accuracy: 0.8589 - val_loss: 0.3815 - val_accuracy: 0.8482\n",
      "Epoch 70/100\n",
      "168/168 [==============================] - 0s 2ms/step - loss: 0.3566 - accuracy: 0.8595 - val_loss: 0.3799 - val_accuracy: 0.8482\n",
      "Epoch 71/100\n",
      "168/168 [==============================] - 0s 2ms/step - loss: 0.3550 - accuracy: 0.8608 - val_loss: 0.3788 - val_accuracy: 0.8485\n",
      "Epoch 72/100\n",
      "168/168 [==============================] - 0s 2ms/step - loss: 0.3537 - accuracy: 0.8599 - val_loss: 0.3775 - val_accuracy: 0.8497\n",
      "Epoch 73/100\n",
      "168/168 [==============================] - 0s 2ms/step - loss: 0.3524 - accuracy: 0.8617 - val_loss: 0.3760 - val_accuracy: 0.8508\n",
      "Epoch 74/100\n",
      "168/168 [==============================] - 0s 2ms/step - loss: 0.3510 - accuracy: 0.8628 - val_loss: 0.3750 - val_accuracy: 0.8512\n",
      "Epoch 75/100\n",
      "168/168 [==============================] - 0s 2ms/step - loss: 0.3499 - accuracy: 0.8614 - val_loss: 0.3739 - val_accuracy: 0.8512\n",
      "Epoch 76/100\n",
      "168/168 [==============================] - 0s 2ms/step - loss: 0.3489 - accuracy: 0.8614 - val_loss: 0.3728 - val_accuracy: 0.8519\n",
      "Epoch 77/100\n",
      "168/168 [==============================] - 0s 2ms/step - loss: 0.3480 - accuracy: 0.8614 - val_loss: 0.3720 - val_accuracy: 0.8512\n",
      "Epoch 78/100\n",
      "168/168 [==============================] - 0s 2ms/step - loss: 0.3471 - accuracy: 0.8610 - val_loss: 0.3711 - val_accuracy: 0.8504\n",
      "Epoch 79/100\n",
      "168/168 [==============================] - 0s 2ms/step - loss: 0.3463 - accuracy: 0.8612 - val_loss: 0.3703 - val_accuracy: 0.8501\n",
      "Epoch 80/100\n",
      "168/168 [==============================] - 0s 2ms/step - loss: 0.3454 - accuracy: 0.8610 - val_loss: 0.3697 - val_accuracy: 0.8497\n",
      "Epoch 81/100\n",
      "168/168 [==============================] - 0s 2ms/step - loss: 0.3448 - accuracy: 0.8610 - val_loss: 0.3692 - val_accuracy: 0.8497\n",
      "Epoch 82/100\n",
      "168/168 [==============================] - 0s 2ms/step - loss: 0.3441 - accuracy: 0.8615 - val_loss: 0.3686 - val_accuracy: 0.8508\n",
      "Epoch 83/100\n",
      "168/168 [==============================] - 0s 2ms/step - loss: 0.3436 - accuracy: 0.8614 - val_loss: 0.3681 - val_accuracy: 0.8512\n",
      "Epoch 84/100\n",
      "168/168 [==============================] - 0s 2ms/step - loss: 0.3430 - accuracy: 0.8615 - val_loss: 0.3674 - val_accuracy: 0.8523\n",
      "Epoch 85/100\n",
      "168/168 [==============================] - 0s 2ms/step - loss: 0.3425 - accuracy: 0.8612 - val_loss: 0.3666 - val_accuracy: 0.8516\n",
      "Epoch 86/100\n",
      "168/168 [==============================] - 0s 2ms/step - loss: 0.3419 - accuracy: 0.8617 - val_loss: 0.3662 - val_accuracy: 0.8531\n",
      "Epoch 87/100\n",
      "168/168 [==============================] - 0s 2ms/step - loss: 0.3414 - accuracy: 0.8617 - val_loss: 0.3658 - val_accuracy: 0.8531\n",
      "Epoch 88/100\n",
      "168/168 [==============================] - 0s 2ms/step - loss: 0.3409 - accuracy: 0.8630 - val_loss: 0.3652 - val_accuracy: 0.8535\n",
      "Epoch 89/100\n",
      "168/168 [==============================] - 0s 2ms/step - loss: 0.3405 - accuracy: 0.8621 - val_loss: 0.3648 - val_accuracy: 0.8535\n",
      "Epoch 90/100\n",
      "168/168 [==============================] - 0s 2ms/step - loss: 0.3400 - accuracy: 0.8621 - val_loss: 0.3644 - val_accuracy: 0.8542\n",
      "Epoch 91/100\n",
      "168/168 [==============================] - 0s 2ms/step - loss: 0.3396 - accuracy: 0.8627 - val_loss: 0.3641 - val_accuracy: 0.8538\n",
      "Epoch 92/100\n",
      "168/168 [==============================] - 0s 2ms/step - loss: 0.3391 - accuracy: 0.8632 - val_loss: 0.3637 - val_accuracy: 0.8550\n",
      "Epoch 93/100\n",
      "168/168 [==============================] - 0s 2ms/step - loss: 0.3387 - accuracy: 0.8630 - val_loss: 0.3633 - val_accuracy: 0.8554\n",
      "Epoch 94/100\n",
      "168/168 [==============================] - 0s 2ms/step - loss: 0.3382 - accuracy: 0.8642 - val_loss: 0.3629 - val_accuracy: 0.8557\n",
      "Epoch 95/100\n",
      "168/168 [==============================] - 0s 2ms/step - loss: 0.3379 - accuracy: 0.8630 - val_loss: 0.3624 - val_accuracy: 0.8542\n",
      "Epoch 96/100\n",
      "168/168 [==============================] - 0s 2ms/step - loss: 0.3374 - accuracy: 0.8638 - val_loss: 0.3626 - val_accuracy: 0.8546\n",
      "Epoch 97/100\n",
      "168/168 [==============================] - 0s 2ms/step - loss: 0.3372 - accuracy: 0.8651 - val_loss: 0.3621 - val_accuracy: 0.8535\n",
      "Epoch 98/100\n",
      "168/168 [==============================] - 0s 2ms/step - loss: 0.3369 - accuracy: 0.8640 - val_loss: 0.3617 - val_accuracy: 0.8535\n",
      "Epoch 99/100\n",
      "168/168 [==============================] - 0s 2ms/step - loss: 0.3366 - accuracy: 0.8640 - val_loss: 0.3613 - val_accuracy: 0.8531\n",
      "Epoch 100/100\n",
      "168/168 [==============================] - 0s 2ms/step - loss: 0.3364 - accuracy: 0.8643 - val_loss: 0.3612 - val_accuracy: 0.8538\n"
     ]
    }
   ],
   "source": [
    "model_history = classifier.fit(X_train,Y_train,validation_split=0.33,  epochs = 100)"
   ]
  },
  {
   "cell_type": "code",
   "execution_count": 14,
   "metadata": {},
   "outputs": [],
   "source": [
    "import tensorflow as tf"
   ]
  },
  {
   "cell_type": "code",
   "execution_count": 15,
   "metadata": {},
   "outputs": [
    {
     "data": {
      "text/plain": [
       "'2.3.1'"
      ]
     },
     "execution_count": 15,
     "metadata": {},
     "output_type": "execute_result"
    }
   ],
   "source": [
    "tf.__version__"
   ]
  },
  {
   "cell_type": "code",
   "execution_count": 16,
   "metadata": {},
   "outputs": [
    {
     "name": "stdout",
     "output_type": "stream",
     "text": [
      "dict_keys(['loss', 'accuracy', 'val_loss', 'val_accuracy'])\n"
     ]
    }
   ],
   "source": [
    "print(model_history.history.keys())"
   ]
  },
  {
   "cell_type": "code",
   "execution_count": 17,
   "metadata": {},
   "outputs": [
    {
     "data": {
      "image/png": "[encoded data removed]",
      "text/plain": [
       "<Figure size 432x288 with 1 Axes>"
      ]
     },
     "metadata": {
      "needs_background": "light"
     },
     "output_type": "display_data"
    }
   ],
   "source": [
    "plt.plot(model_history.history['accuracy'])\n",
    "plt.plot(model_history.history['val_accuracy'])\n",
    "plt.title('model accuracy')\n",
    "plt.ylabel('accuracy')\n",
    "plt.xlabel('epoch')\n",
    "plt.legend(['train', 'test'], loc='upper left')\n",
    "plt.show()\n"
   ]
  },
  {
   "cell_type": "code",
   "execution_count": 18,
   "metadata": {},
   "outputs": [
    {
     "data": {
      "image/png": "[encoded data removed]",
      "text/plain": [
       "<Figure size 432x288 with 1 Axes>"
      ]
     },
     "metadata": {
      "needs_background": "light"
     },
     "output_type": "display_data"
    }
   ],
   "source": [
    "plt.plot(model_history.history['loss'])\n",
    "plt.plot(model_history.history['val_loss'])\n",
    "plt.title('model loss')\n",
    "plt.ylabel('loss')\n",
    "plt.xlabel('epoch')\n",
    "plt.legend(['train', 'test'], loc='upper left')\n",
    "plt.show()"
   ]
  },
  {
   "cell_type": "markdown",
   "metadata": {},
   "source": [
    "# Part 3 - Making the predictions and evaluating the model\n",
    "\n",
    "# Predicting the Test set results"
   ]
  },
  {
   "cell_type": "code",
   "execution_count": 19,
   "metadata": {},
   "outputs": [],
   "source": [
    "y_pred = classifier.predict(X_test)\n",
    "y_pred = (y_pred > 0.5)"
   ]
  },
  {
   "cell_type": "code",
   "execution_count": 20,
   "metadata": {},
   "outputs": [],
   "source": [
    "from sklearn.metrics import confusion_matrix\n",
    "cm = confusion_matrix(Y_test, y_pred)"
   ]
  },
  {
   "cell_type": "code",
   "execution_count": 21,
   "metadata": {},
   "outputs": [],
   "source": [
    "from sklearn.metrics import accuracy_score\n",
    "score=accuracy_score(y_pred,Y_test)\n"
   ]
  },
  {
   "cell_type": "code",
   "execution_count": 22,
   "metadata": {},
   "outputs": [
    {
     "data": {
      "text/plain": [
       "0.8595"
      ]
     },
     "execution_count": 22,
     "metadata": {},
     "output_type": "execute_result"
    }
   ],
   "source": [
    "score"
   ]
  },
  {
   "cell_type": "code",
   "execution_count": null,
   "metadata": {},
   "outputs": [],
   "source": []
  },
  {
   "cell_type": "code",
   "execution_count": null,
   "metadata": {},
   "outputs": [],
   "source": []
  }
 ],
 "metadata": {
  "kernelspec": {
   "display_name": "Python 3",
   "language": "python",
   "name": "python3"
  },
  "language_info": {
   "codemirror_mode": {
    "name": "ipython",
    "version": 3
   },
   "file_extension": ".py",
   "mimetype": "text/x-python",
   "name": "python",
   "nbconvert_exporter": "python",
   "pygments_lexer": "ipython3",
   "version": "3.7.4"
  }
 },
 "nbformat": 4,
 "nbformat_minor": 2
}
