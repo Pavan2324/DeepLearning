{
 "cells": [
  {
   "cell_type": "code",
   "execution_count": null,
   "metadata": {
    "execution": {
     "iopub.execute_input": "2021-06-20T10:57:18.80618Z",
     "iopub.status.busy": "2021-06-20T10:57:18.805771Z",
     "iopub.status.idle": "2021-06-20T10:57:24.939247Z",
     "shell.execute_reply": "2021-06-20T10:57:24.938226Z",
     "shell.execute_reply.started": "2021-06-20T10:57:18.806128Z"
    }
   },
   "outputs": [],
   "source": [
    "#Import the necessary libraries first\n",
    "\n",
    "import tensorflow as tf\n",
    "import os\n",
    "import numpy as np\n",
    "import pandas as pd\n",
    "import matplotlib.pyplot as plt\n",
    "%matplotlib inline\n",
    "from tensorflow.keras.preprocessing import image\n",
    "from keras.preprocessing.image import ImageDataGenerator,load_img, img_to_array\n",
    "from tensorflow.keras.metrics import categorical_crossentropy\n",
    "from keras.models import Sequential, Model\n",
    "from keras.layers import Conv2D, MaxPooling2D,GlobalAveragePooling2D\n",
    "from keras.layers import Activation, Dropout, BatchNormalization, Flatten, Dense, AvgPool2D,MaxPool2D\n",
    "from keras.models import Sequential, Model\n",
    "from keras.optimizers import Adam, SGD, RMSprop\n",
    "from keras import backend as K\n",
    "import cv2\n",
    "import shutil\n",
    "import glob"
   ]
  },
  {
   "cell_type": "code",
   "execution_count": null,
   "metadata": {
    "execution": {
     "iopub.execute_input": "2021-06-20T10:58:26.205141Z",
     "iopub.status.busy": "2021-06-20T10:58:26.204559Z",
     "iopub.status.idle": "2021-06-20T10:58:26.210555Z",
     "shell.execute_reply": "2021-06-20T10:58:26.209863Z",
     "shell.execute_reply.started": "2021-06-20T10:58:26.205104Z"
    }
   },
   "outputs": [],
   "source": [
    "data = '../input/brain-mri-images-for-brain-tumor-detection/'\n",
    "No_brain_tumor = '../input/brain-mri-images-for-brain-tumor-detection/no/'\n",
    "Yes_brain_tumor = '../input/brain-mri-images-for-brain-tumor-detection/yes/'"
   ]
  },
  {
   "cell_type": "code",
   "execution_count": null,
   "metadata": {
    "execution": {
     "iopub.execute_input": "2021-06-20T11:18:58.109663Z",
     "iopub.status.busy": "2021-06-20T11:18:58.109295Z",
     "iopub.status.idle": "2021-06-20T11:18:58.126047Z",
     "shell.execute_reply": "2021-06-20T11:18:58.125257Z",
     "shell.execute_reply.started": "2021-06-20T11:18:58.109633Z"
    }
   },
   "outputs": [],
   "source": [
    "dirlist = [No_brain_tumor , Yes_brain_tumor]\n",
    "classes = ['No','Yes']\n",
    "filepaths  = []\n",
    "labels = []\n",
    "for i,j in zip(dirlist,classes):\n",
    "    filelist = os.listdir(i)\n",
    "    for f in filelist:\n",
    "        filepath = os.path.join(i,f)\n",
    "        filepaths.append(filepath)\n",
    "        labels.append(j)\n",
    "print ('filepaths: ', len(filepaths), '   labels: ', len(labels))"
   ]
  },
  {
   "cell_type": "code",
   "execution_count": null,
   "metadata": {
    "execution": {
     "iopub.execute_input": "2021-06-20T11:23:21.762336Z",
     "iopub.status.busy": "2021-06-20T11:23:21.761702Z",
     "iopub.status.idle": "2021-06-20T11:23:21.802961Z",
     "shell.execute_reply": "2021-06-20T11:23:21.801853Z",
     "shell.execute_reply.started": "2021-06-20T11:23:21.7623Z"
    }
   },
   "outputs": [],
   "source": [
    "Files = pd.Series(filepaths,name = 'filepath')\n",
    "Label = pd.Series(labels,name = 'labels')\n",
    "df = pd.concat([Files,Label],axis=1)\n",
    "df=pd.DataFrame(np.array(df).reshape(253,2), columns = ['filepaths', 'labels'])\n",
    "df.head()"
   ]
  },
  {
   "cell_type": "code",
   "execution_count": null,
   "metadata": {
    "execution": {
     "iopub.execute_input": "2021-06-20T11:58:55.541231Z",
     "iopub.status.busy": "2021-06-20T11:58:55.540793Z",
     "iopub.status.idle": "2021-06-20T11:58:55.556587Z",
     "shell.execute_reply": "2021-06-20T11:58:55.555676Z",
     "shell.execute_reply.started": "2021-06-20T11:58:55.541189Z"
    }
   },
   "outputs": [],
   "source": [
    "print(df['labels'].value_counts())"
   ]
  },
  {
   "cell_type": "code",
   "execution_count": null,
   "metadata": {
    "execution": {
     "iopub.execute_input": "2021-06-20T12:09:58.74604Z",
     "iopub.status.busy": "2021-06-20T12:09:58.745684Z",
     "iopub.status.idle": "2021-06-20T12:09:59.939355Z",
     "shell.execute_reply": "2021-06-20T12:09:59.938577Z",
     "shell.execute_reply.started": "2021-06-20T12:09:58.746013Z"
    }
   },
   "outputs": [],
   "source": [
    "plt.figure(figsize=(12,10))\n",
    "for i in range(15):\n",
    "    random = np.random.randint(1,len(df))\n",
    "    plt.subplot(3,5,i+1)\n",
    "    plt.imshow(cv2.imread(df.loc[random,\"filepaths\"]))\n",
    "    plt.title(df.loc[random, \"labels\"], size = 15, color = \"black\") \n",
    "    plt.xticks([])\n",
    "    plt.yticks([])\n",
    "plt.show()"
   ]
  },
  {
   "cell_type": "code",
   "execution_count": null,
   "metadata": {
    "execution": {
     "iopub.execute_input": "2021-06-20T12:13:32.995654Z",
     "iopub.status.busy": "2021-06-20T12:13:32.995292Z",
     "iopub.status.idle": "2021-06-20T12:13:33.006135Z",
     "shell.execute_reply": "2021-06-20T12:13:33.004804Z",
     "shell.execute_reply.started": "2021-06-20T12:13:32.995625Z"
    }
   },
   "outputs": [],
   "source": [
    "from sklearn.model_selection import train_test_split\n",
    "\n",
    "train, test = train_test_split(df, train_size=0.95, random_state=0)\n",
    "train_new, valid = train_test_split(train, train_size=0.90, random_state=0)\n",
    "\n",
    "print(f\"train set shape: {train_new.shape}\")\n",
    "print(f\"test set shape: {test.shape}\")\n",
    "print(f\"validation set shape: {valid.shape}\")"
   ]
  },
  {
   "cell_type": "code",
   "execution_count": null,
   "metadata": {
    "execution": {
     "iopub.execute_input": "2021-06-20T13:28:49.484232Z",
     "iopub.status.busy": "2021-06-20T13:28:49.483479Z",
     "iopub.status.idle": "2021-06-20T13:28:49.488968Z",
     "shell.execute_reply": "2021-06-20T13:28:49.488259Z",
     "shell.execute_reply.started": "2021-06-20T13:28:49.484194Z"
    }
   },
   "outputs": [],
   "source": [
    "train_datagen = ImageDataGenerator(rescale = 1./255.,rotation_range=40,width_shift_range=0.2,height_shift_range=0.2,shear_range=0.2,\n",
    "                                   zoom_range=0.2,horizontal_flip=True,vertical_flip=True)\n",
    "test_datagen = ImageDataGenerator(rescale = 1.0/255.)"
   ]
  },
  {
   "cell_type": "code",
   "execution_count": null,
   "metadata": {
    "execution": {
     "iopub.execute_input": "2021-06-20T13:45:29.645497Z",
     "iopub.status.busy": "2021-06-20T13:45:29.645112Z",
     "iopub.status.idle": "2021-06-20T13:45:29.766255Z",
     "shell.execute_reply": "2021-06-20T13:45:29.765456Z",
     "shell.execute_reply.started": "2021-06-20T13:45:29.645466Z"
    }
   },
   "outputs": [],
   "source": [
    "train_gen = train_datagen.flow_from_dataframe(dataframe=train_new,x_col=\"filepaths\",y_col=\"labels\",target_size=(150,150),batch_size=16,class_mode='binary',shuffle=True)\n"
   ]
  },
  {
   "cell_type": "code",
   "execution_count": null,
   "metadata": {
    "execution": {
     "iopub.execute_input": "2021-06-20T13:46:44.703451Z",
     "iopub.status.busy": "2021-06-20T13:46:44.702877Z",
     "iopub.status.idle": "2021-06-20T13:46:44.730943Z",
     "shell.execute_reply": "2021-06-20T13:46:44.73018Z",
     "shell.execute_reply.started": "2021-06-20T13:46:44.703403Z"
    }
   },
   "outputs": [],
   "source": [
    "val_gen= train_datagen.flow_from_dataframe(valid,x_col=\"filepaths\",y_col=\"labels\",target_size=(150,150),batch_size=16,class_mode='binary',shuffle=True)\n"
   ]
  },
  {
   "cell_type": "code",
   "execution_count": null,
   "metadata": {
    "execution": {
     "iopub.execute_input": "2021-06-20T13:47:52.529933Z",
     "iopub.status.busy": "2021-06-20T13:47:52.529601Z",
     "iopub.status.idle": "2021-06-20T13:47:52.550642Z",
     "shell.execute_reply": "2021-06-20T13:47:52.549759Z",
     "shell.execute_reply.started": "2021-06-20T13:47:52.529905Z"
    }
   },
   "outputs": [],
   "source": [
    "test_gen = test_datagen.flow_from_dataframe(test,x_col=\"filepaths\",y_col=\"labels\",target_size=(150,150),batch_size=16,class_mode='binary',shuffle=True)"
   ]
  },
  {
   "cell_type": "code",
   "execution_count": null,
   "metadata": {
    "execution": {
     "iopub.execute_input": "2021-06-20T13:48:10.092485Z",
     "iopub.status.busy": "2021-06-20T13:48:10.092112Z",
     "iopub.status.idle": "2021-06-20T13:48:10.098512Z",
     "shell.execute_reply": "2021-06-20T13:48:10.097503Z",
     "shell.execute_reply.started": "2021-06-20T13:48:10.092454Z"
    }
   },
   "outputs": [],
   "source": [
    "train_gen.class_indices"
   ]
  },
  {
   "cell_type": "code",
   "execution_count": null,
   "metadata": {
    "execution": {
     "iopub.execute_input": "2021-06-20T14:25:19.504195Z",
     "iopub.status.busy": "2021-06-20T14:25:19.503631Z",
     "iopub.status.idle": "2021-06-20T14:25:33.917274Z",
     "shell.execute_reply": "2021-06-20T14:25:33.916103Z",
     "shell.execute_reply.started": "2021-06-20T14:25:19.504111Z"
    }
   },
   "outputs": [],
   "source": [
    "base_model = tf.keras.applications.InceptionResNetV2(weights='imagenet',input_shape=(200,200,3),include_top=False)\n",
    "\n",
    "model = Sequential()\n",
    "model.add(base_model)\n",
    "model.add(GlobalAveragePooling2D())\n",
    "model.add(Dense(128,activation = 'relu'))\n",
    "model.add(BatchNormalization())\n",
    "model.add(Dropout(0.2))\n",
    "model.add(Dense(1,activation='sigmoid'))\n",
    "model.summary()\n"
   ]
  },
  {
   "cell_type": "code",
   "execution_count": null,
   "metadata": {
    "execution": {
     "iopub.execute_input": "2021-06-20T14:46:20.774533Z",
     "iopub.status.busy": "2021-06-20T14:46:20.774025Z",
     "iopub.status.idle": "2021-06-20T14:46:20.77931Z",
     "shell.execute_reply": "2021-06-20T14:46:20.778269Z",
     "shell.execute_reply.started": "2021-06-20T14:46:20.774501Z"
    }
   },
   "outputs": [],
   "source": [
    "callbacks = [tf.keras.callbacks.ModelCheckpoint(\"Tumor_classifier_model.h5\",save_best_only=True,verbose=0),tf.keras.callbacks.EarlyStopping(patience=3,monitor = 'val_loss',verbose=1)]"
   ]
  },
  {
   "cell_type": "code",
   "execution_count": null,
   "metadata": {
    "execution": {
     "iopub.execute_input": "2021-06-20T14:46:23.145414Z",
     "iopub.status.busy": "2021-06-20T14:46:23.144855Z",
     "iopub.status.idle": "2021-06-20T14:52:26.448064Z",
     "shell.execute_reply": "2021-06-20T14:52:26.44683Z",
     "shell.execute_reply.started": "2021-06-20T14:46:23.145365Z"
    }
   },
   "outputs": [],
   "source": [
    "model.compile(loss='binary_crossentropy',optimizer=Adam(lr = 0.0001),metrics=['accuracy'])\n",
    "\n",
    "history = model.fit(train_gen,validation_data=val_gen,epochs = 40,callbacks=[callbacks],verbose=1)"
   ]
  },
  {
   "cell_type": "code",
   "execution_count": null,
   "metadata": {
    "execution": {
     "iopub.execute_input": "2021-06-20T14:56:28.842869Z",
     "iopub.status.busy": "2021-06-20T14:56:28.842437Z",
     "iopub.status.idle": "2021-06-20T14:56:30.271256Z",
     "shell.execute_reply": "2021-06-20T14:56:30.27029Z",
     "shell.execute_reply.started": "2021-06-20T14:56:28.842831Z"
    }
   },
   "outputs": [],
   "source": [
    "model.load_weights(\"Tumor_classifier_model.h5\")\n",
    "model.evaluate(test_gen)"
   ]
  },
  {
   "cell_type": "code",
   "execution_count": null,
   "metadata": {},
   "outputs": [],
   "source": []
  },
  {
   "cell_type": "code",
   "execution_count": null,
   "metadata": {},
   "outputs": [],
   "source": []
  }
 ],
 "metadata": {
  "kernelspec": {
   "display_name": "Python 3",
   "language": "python",
   "name": "python3"
  },
  "language_info": {
   "codemirror_mode": {
    "name": "ipython",
    "version": 3
   },
   "file_extension": ".py",
   "mimetype": "text/x-python",
   "name": "python",
   "nbconvert_exporter": "python",
   "pygments_lexer": "ipython3",
   "version": "3.7.4"
  }
 },
 "nbformat": 4,
 "nbformat_minor": 4
}
