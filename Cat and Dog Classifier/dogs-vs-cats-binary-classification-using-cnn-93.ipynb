{
 "cells": [
  {
   "cell_type": "markdown",
   "metadata": {},
   "source": [
    "# DOGS VS CATS Classifier\n",
    "\n",
    "So the main aim is to classify the wether the images is a dog and cat here we have consider binary classifier as it is only two images to process\n",
    "\n",
    "As the Dataset is Large so i am adding the link here to download the dataset from kaggle \n",
    "Please Go through it it might be helpful \n",
    " \n",
    " \n",
    " Dataset Link :- https://www.kaggle.com/c/dogs-vs-cats/data"
   ]
  },
  {
   "cell_type": "code",
   "execution_count": null,
   "metadata": {
    "_cell_guid": "b1076dfc-b9ad-4769-8c92-a6c4dae69d19",
    "_uuid": "8f2839f25d086af736a60e9eeb907d3b93b6e0e5",
    "execution": {
     "iopub.execute_input": "2021-05-30T21:41:19.577807Z",
     "iopub.status.busy": "2021-05-30T21:41:19.577435Z",
     "iopub.status.idle": "2021-05-30T21:41:25.143319Z",
     "shell.execute_reply": "2021-05-30T21:41:25.142356Z",
     "shell.execute_reply.started": "2021-05-30T21:41:19.577717Z"
    }
   },
   "outputs": [],
   "source": [
    "import pandas as pd\n",
    "import numpy as np\n",
    "import matplotlib.pyplot as plt\n",
    "from matplotlib.image import imread\n",
    "import seaborn as sns\n",
    "import os\n",
    "import glob as gb\n",
    "import random\n",
    "from sklearn.model_selection import train_test_split\n",
    "import tensorflow as tf\n",
    "import tensorflow.keras\n",
    "from tensorflow.keras.preprocessing.image import ImageDataGenerator\n",
    "from tensorflow.keras.optimizers import Adam\n",
    "from tensorflow.keras.callbacks import ModelCheckpoint, EarlyStopping, ReduceLROnPlateau\n",
    "from tensorflow.keras.models import Sequential\n",
    "from tensorflow.keras.layers import Conv2D, BatchNormalization, MaxPool2D, Flatten, Dense, Dropout\n",
    "from zipfile import ZipFile\n",
    "import matplotlib.image as mpimg\n",
    "import warnings\n",
    "\n",
    "sns.set()\n",
    "%matplotlib inline\n",
    "warnings.filterwarnings(\"ignore\")"
   ]
  },
  {
   "cell_type": "markdown",
   "metadata": {},
   "source": [
    "# 2- Prepare Data\n",
    "Import **train** and **test** data as dataframes by extracting images from zip files and add images names in dataframe."
   ]
  },
  {
   "cell_type": "code",
   "execution_count": null,
   "metadata": {
    "execution": {
     "iopub.execute_input": "2021-05-30T21:41:25.145371Z",
     "iopub.status.busy": "2021-05-30T21:41:25.145046Z",
     "iopub.status.idle": "2021-05-30T21:41:42.634944Z",
     "shell.execute_reply": "2021-05-30T21:41:42.634137Z",
     "shell.execute_reply.started": "2021-05-30T21:41:25.145336Z"
    }
   },
   "outputs": [],
   "source": [
    "ZipFile(\"/kaggle/input/dogs-vs-cats/train.zip\",\"r\").extractall()\n",
    "ZipFile(\"/kaggle/input/dogs-vs-cats/test1.zip\", \"r\").extractall()"
   ]
  },
  {
   "cell_type": "code",
   "execution_count": null,
   "metadata": {
    "execution": {
     "iopub.execute_input": "2021-05-30T21:41:42.636584Z",
     "iopub.status.busy": "2021-05-30T21:41:42.636237Z",
     "iopub.status.idle": "2021-05-30T21:41:42.641334Z",
     "shell.execute_reply": "2021-05-30T21:41:42.640423Z",
     "shell.execute_reply.started": "2021-05-30T21:41:42.636549Z"
    }
   },
   "outputs": [],
   "source": [
    "train_path = \"./train\"\n",
    "test_path = \"./test1\""
   ]
  },
  {
   "cell_type": "code",
   "execution_count": null,
   "metadata": {
    "execution": {
     "iopub.execute_input": "2021-05-30T21:41:42.643471Z",
     "iopub.status.busy": "2021-05-30T21:41:42.6431Z",
     "iopub.status.idle": "2021-05-30T21:41:42.702089Z",
     "shell.execute_reply": "2021-05-30T21:41:42.701054Z",
     "shell.execute_reply.started": "2021-05-30T21:41:42.643433Z"
    }
   },
   "outputs": [],
   "source": [
    "filenames = os.listdir(train_path)\n",
    "categories = []\n",
    "for filename in filenames:\n",
    "    category = filename.split('.')[0]\n",
    "    if category == 'dog':\n",
    "        categories.append(category)\n",
    "    else:\n",
    "        categories.append(category)\n",
    "\n",
    "df = pd.DataFrame({\n",
    "    'Image': filenames,\n",
    "    'Category': categories})\n",
    "df.head(-5)"
   ]
  },
  {
   "cell_type": "code",
   "execution_count": null,
   "metadata": {
    "execution": {
     "iopub.execute_input": "2021-05-30T21:41:42.705636Z",
     "iopub.status.busy": "2021-05-30T21:41:42.705288Z",
     "iopub.status.idle": "2021-05-30T21:41:42.861576Z",
     "shell.execute_reply": "2021-05-30T21:41:42.86068Z",
     "shell.execute_reply.started": "2021-05-30T21:41:42.7056Z"
    }
   },
   "outputs": [],
   "source": [
    "df['Category'].value_counts().plot.bar()"
   ]
  },
  {
   "cell_type": "code",
   "execution_count": null,
   "metadata": {
    "execution": {
     "iopub.execute_input": "2021-05-30T21:41:42.864752Z",
     "iopub.status.busy": "2021-05-30T21:41:42.864391Z",
     "iopub.status.idle": "2021-05-30T21:41:43.098981Z",
     "shell.execute_reply": "2021-05-30T21:41:43.097979Z",
     "shell.execute_reply.started": "2021-05-30T21:41:42.864714Z"
    }
   },
   "outputs": [],
   "source": [
    "df_train, df_validation = train_test_split(df, test_size=0.1, random_state=18)\n",
    "df_train = df_train.reset_index(drop=True)\n",
    "df_validation = df_validation.reset_index(drop=True)\n",
    "df_train['Category'].value_counts().plot.bar()\n",
    "plt.show()\n",
    "df_validation['Category'].value_counts().plot.bar()"
   ]
  },
  {
   "cell_type": "markdown",
   "metadata": {},
   "source": [
    "Let's check our images."
   ]
  },
  {
   "cell_type": "code",
   "execution_count": null,
   "metadata": {
    "execution": {
     "iopub.execute_input": "2021-05-30T21:41:43.100869Z",
     "iopub.status.busy": "2021-05-30T21:41:43.100504Z",
     "iopub.status.idle": "2021-05-30T21:41:43.377381Z",
     "shell.execute_reply": "2021-05-30T21:41:43.374739Z",
     "shell.execute_reply.started": "2021-05-30T21:41:43.100831Z"
    }
   },
   "outputs": [],
   "source": [
    "sample = random.choice(df['Image'])\n",
    "plt.imshow(plt.imread((\"./train/\"+sample)))"
   ]
  },
  {
   "cell_type": "markdown",
   "metadata": {},
   "source": [
    "# 3- Setup Variables\n",
    "Define the size of image and its channel, batch size  and the number of epochs."
   ]
  },
  {
   "cell_type": "code",
   "execution_count": null,
   "metadata": {
    "execution": {
     "iopub.execute_input": "2021-05-30T21:41:43.381596Z",
     "iopub.status.busy": "2021-05-30T21:41:43.380569Z",
     "iopub.status.idle": "2021-05-30T21:41:43.393592Z",
     "shell.execute_reply": "2021-05-30T21:41:43.391309Z",
     "shell.execute_reply.started": "2021-05-30T21:41:43.381214Z"
    }
   },
   "outputs": [],
   "source": [
    "size  = 150\n",
    "channels = 3\n",
    "batch = 128\n",
    "epochs = 50"
   ]
  },
  {
   "cell_type": "markdown",
   "metadata": {},
   "source": [
    "# 4- Data Augmentation\n",
    "Let's make augmentation on training data and only scaling validation and test data."
   ]
  },
  {
   "cell_type": "code",
   "execution_count": null,
   "metadata": {
    "execution": {
     "iopub.execute_input": "2021-05-30T21:41:43.403499Z",
     "iopub.status.busy": "2021-05-30T21:41:43.403186Z",
     "iopub.status.idle": "2021-05-30T21:41:43.419414Z",
     "shell.execute_reply": "2021-05-30T21:41:43.417256Z",
     "shell.execute_reply.started": "2021-05-30T21:41:43.403471Z"
    }
   },
   "outputs": [],
   "source": [
    "datagen = ImageDataGenerator(rescale=1./255,\n",
    "                             zoom_range=0.2,\n",
    "                             width_shift_range=.2, height_shift_range=.2,\n",
    "                             rotation_range=30,\n",
    "                             brightness_range=[0.8, 1.2],\n",
    "                             horizontal_flip=True)\n",
    "\n",
    "datagenValidation = ImageDataGenerator(rescale=1./255)"
   ]
  },
  {
   "cell_type": "code",
   "execution_count": null,
   "metadata": {
    "execution": {
     "iopub.execute_input": "2021-05-30T21:41:43.422823Z",
     "iopub.status.busy": "2021-05-30T21:41:43.422087Z",
     "iopub.status.idle": "2021-05-30T21:41:43.882475Z",
     "shell.execute_reply": "2021-05-30T21:41:43.881571Z",
     "shell.execute_reply.started": "2021-05-30T21:41:43.422772Z"
    }
   },
   "outputs": [],
   "source": [
    "X_train = datagen.flow_from_dataframe(\n",
    "    df_train, \n",
    "    directory = train_path, \n",
    "    x_col = 'Image',\n",
    "    y_col = 'Category',\n",
    "    target_size= (size,size),\n",
    "    class_mode = 'binary',\n",
    "    shuffle = True,\n",
    "    batch_size = batch)\n",
    "\n",
    "X_validation = datagenValidation.flow_from_dataframe(\n",
    "    df_validation, \n",
    "    directory = train_path, \n",
    "    x_col = 'Image',\n",
    "    y_col = 'Category',\n",
    "    target_size= (size,size),\n",
    "    class_mode = 'binary',\n",
    "    shuffle = True,\n",
    "    batch_size = batch)"
   ]
  },
  {
   "cell_type": "code",
   "execution_count": null,
   "metadata": {
    "execution": {
     "iopub.execute_input": "2021-05-30T21:41:43.886622Z",
     "iopub.status.busy": "2021-05-30T21:41:43.886129Z",
     "iopub.status.idle": "2021-05-30T21:41:58.397231Z",
     "shell.execute_reply": "2021-05-30T21:41:58.396452Z",
     "shell.execute_reply.started": "2021-05-30T21:41:43.886585Z"
    }
   },
   "outputs": [],
   "source": [
    "plt.figure(figsize=(12, 12))\n",
    "for i in range(0, 15):\n",
    "    plt.subplot(5, 3, i+1)\n",
    "    for X_batch, Y_batch in X_train:\n",
    "        image = X_batch[0]\n",
    "        plt.imshow(image)\n",
    "        break\n",
    "# plt.tight_layout()\n",
    "plt.show()"
   ]
  },
  {
   "cell_type": "markdown",
   "metadata": {},
   "source": [
    "# 5- Setup Callbacks"
   ]
  },
  {
   "cell_type": "code",
   "execution_count": null,
   "metadata": {
    "execution": {
     "iopub.execute_input": "2021-05-30T21:41:58.398837Z",
     "iopub.status.busy": "2021-05-30T21:41:58.398372Z",
     "iopub.status.idle": "2021-05-30T21:41:58.404039Z",
     "shell.execute_reply": "2021-05-30T21:41:58.403229Z",
     "shell.execute_reply.started": "2021-05-30T21:41:58.398802Z"
    }
   },
   "outputs": [],
   "source": [
    "checkpoint_filepath = 'best_model.hdf5'\n",
    "\n",
    "callback_checkpoint = ModelCheckpoint(filepath=checkpoint_filepath, save_weights_only=False, monitor='val_accuracy', mode='max', save_best_only=True)\n",
    "callback_learningrate = ReduceLROnPlateau(monitor='val_accuracy', mode='max', min_delta=0.03, patience=3, factor=.5, min_lr=0.00001, verbose=1)\n",
    "\n",
    "callbacks = [callback_checkpoint, callback_learningrate]"
   ]
  },
  {
   "cell_type": "markdown",
   "metadata": {},
   "source": [
    "# 6- Design the Neural Network"
   ]
  },
  {
   "cell_type": "code",
   "execution_count": null,
   "metadata": {
    "execution": {
     "iopub.execute_input": "2021-05-30T21:41:58.4057Z",
     "iopub.status.busy": "2021-05-30T21:41:58.405209Z",
     "iopub.status.idle": "2021-05-30T21:42:01.064736Z",
     "shell.execute_reply": "2021-05-30T21:42:01.063846Z",
     "shell.execute_reply.started": "2021-05-30T21:41:58.405666Z"
    }
   },
   "outputs": [],
   "source": [
    "Model = Sequential([Conv2D(filters=32,  kernel_size=(3,3), activation=\"relu\", input_shape=(size,size,channels)),\n",
    "                    BatchNormalization(),\n",
    "                    MaxPool2D(2,2),\n",
    "                    Dropout(0.2),\n",
    "                 \n",
    "                    Conv2D(filters=64,  kernel_size=(5,5), activation=\"relu\"),\n",
    "                    BatchNormalization(),\n",
    "                    MaxPool2D(3,3),\n",
    "                    Dropout(0.2),\n",
    "                \n",
    "                    Conv2D(filters=128, kernel_size=(7,7), activation=\"relu\"),\n",
    "                    BatchNormalization(),\n",
    "                    MaxPool2D(4,4),\n",
    "                    Dropout(0.2),\n",
    "                 \n",
    "                    Flatten(),\n",
    "                    \n",
    "                    Dense(units=4096, activation=\"relu\"),                 \n",
    "                    BatchNormalization(),\n",
    "                    Dropout(0.4),\n",
    "                    \n",
    "                    Dense(units=1024, activation=\"relu\"),\n",
    "                    BatchNormalization(),\n",
    "                    Dropout(0.3),\n",
    "                    \n",
    "                                        \n",
    "                    Dense(units=2, activation=\"relu\"),\n",
    "                    BatchNormalization(),\n",
    "                    Dropout(0.5),\n",
    "                    \n",
    "                    Dense(units=1, activation=\"sigmoid\"),\n",
    "])\n",
    "\n",
    "\n",
    "Model.compile(optimizer='adam', loss=\"binary_crossentropy\", metrics=[\"accuracy\"])\n",
    "\n",
    "Model.summary()"
   ]
  },
  {
   "cell_type": "markdown",
   "metadata": {},
   "source": [
    "# 7- Let's train"
   ]
  },
  {
   "cell_type": "code",
   "execution_count": null,
   "metadata": {
    "execution": {
     "iopub.execute_input": "2021-05-30T21:42:01.068891Z",
     "iopub.status.busy": "2021-05-30T21:42:01.068621Z",
     "iopub.status.idle": "2021-05-31T00:04:19.895968Z",
     "shell.execute_reply": "2021-05-31T00:04:19.895034Z",
     "shell.execute_reply.started": "2021-05-30T21:42:01.068864Z"
    }
   },
   "outputs": [],
   "source": [
    "history = Model.fit(X_train, validation_data=X_validation, epochs=epochs, callbacks=callbacks)"
   ]
  },
  {
   "cell_type": "code",
   "execution_count": null,
   "metadata": {
    "execution": {
     "iopub.execute_input": "2021-05-31T00:04:19.899966Z",
     "iopub.status.busy": "2021-05-31T00:04:19.899665Z",
     "iopub.status.idle": "2021-05-31T00:04:20.256092Z",
     "shell.execute_reply": "2021-05-31T00:04:20.255083Z",
     "shell.execute_reply.started": "2021-05-31T00:04:19.899934Z"
    }
   },
   "outputs": [],
   "source": [
    "acc = history.history['accuracy']\n",
    "val_acc = history.history['val_accuracy']\n",
    "loss = history.history['loss']\n",
    "val_loss = history.history['val_loss']\n",
    "epochs_range = range(len(acc))\n",
    "\n",
    "plt.figure(figsize=(15, 15))\n",
    "plt.subplot(2, 2, 1)\n",
    "plt.plot(epochs_range, acc, label='Training Accuracy')\n",
    "plt.plot(epochs_range, val_acc, label='Validation Accuracy')\n",
    "plt.legend(loc='lower right')\n",
    "plt.title('Training and Validation Accuracy')\n",
    "\n",
    "plt.subplot(2, 2, 2)\n",
    "plt.plot(epochs_range, loss, label='Training Loss')\n",
    "plt.plot(epochs_range, val_loss, label='Validation Loss')\n",
    "plt.legend(loc='upper right')\n",
    "plt.title('Training and Validation Loss')\n",
    "plt.show()"
   ]
  },
  {
   "cell_type": "markdown",
   "metadata": {},
   "source": [
    "# 8- Let's predict"
   ]
  },
  {
   "cell_type": "code",
   "execution_count": null,
   "metadata": {
    "execution": {
     "iopub.execute_input": "2021-05-31T00:04:20.258073Z",
     "iopub.status.busy": "2021-05-31T00:04:20.257696Z",
     "iopub.status.idle": "2021-05-31T00:04:20.802303Z",
     "shell.execute_reply": "2021-05-31T00:04:20.801341Z",
     "shell.execute_reply.started": "2021-05-31T00:04:20.258036Z"
    }
   },
   "outputs": [],
   "source": [
    "Model = tf.keras.models.load_model('best_model.hdf5')"
   ]
  },
  {
   "cell_type": "code",
   "execution_count": null,
   "metadata": {
    "execution": {
     "iopub.execute_input": "2021-05-31T00:04:20.804128Z",
     "iopub.status.busy": "2021-05-31T00:04:20.803725Z",
     "iopub.status.idle": "2021-05-31T00:04:20.828557Z",
     "shell.execute_reply": "2021-05-31T00:04:20.827765Z",
     "shell.execute_reply.started": "2021-05-31T00:04:20.804091Z"
    }
   },
   "outputs": [],
   "source": [
    "filenames = os.listdir(test_path)\n",
    "df_test = pd.DataFrame({'Image':filenames})\n",
    "\n",
    "df_test.head(-5)"
   ]
  },
  {
   "cell_type": "code",
   "execution_count": null,
   "metadata": {
    "execution": {
     "iopub.execute_input": "2021-05-31T00:04:20.83054Z",
     "iopub.status.busy": "2021-05-31T00:04:20.8302Z",
     "iopub.status.idle": "2021-05-31T00:04:20.943512Z",
     "shell.execute_reply": "2021-05-31T00:04:20.942466Z",
     "shell.execute_reply.started": "2021-05-31T00:04:20.830504Z"
    }
   },
   "outputs": [],
   "source": [
    "X_test = datagenValidation.flow_from_dataframe(\n",
    "    df_test, \n",
    "    directory=test_path, \n",
    "    x_col='Image',\n",
    "    y_col=None,\n",
    "    class_mode=None,\n",
    "    target_size= (size,size),\n",
    "    batch_size=batch,\n",
    "    shuffle=False\n",
    ")"
   ]
  },
  {
   "cell_type": "code",
   "execution_count": null,
   "metadata": {
    "execution": {
     "iopub.execute_input": "2021-05-31T00:04:20.945348Z",
     "iopub.status.busy": "2021-05-31T00:04:20.944827Z",
     "iopub.status.idle": "2021-05-31T00:04:20.951381Z",
     "shell.execute_reply": "2021-05-31T00:04:20.95037Z",
     "shell.execute_reply.started": "2021-05-31T00:04:20.945305Z"
    }
   },
   "outputs": [],
   "source": [
    "X_train.class_indices"
   ]
  },
  {
   "cell_type": "code",
   "execution_count": null,
   "metadata": {
    "execution": {
     "iopub.execute_input": "2021-05-31T00:04:20.9534Z",
     "iopub.status.busy": "2021-05-31T00:04:20.952871Z",
     "iopub.status.idle": "2021-05-31T00:04:54.455987Z",
     "shell.execute_reply": "2021-05-31T00:04:54.455179Z",
     "shell.execute_reply.started": "2021-05-31T00:04:20.953362Z"
    }
   },
   "outputs": [],
   "source": [
    "y_pred = Model.predict(X_test)"
   ]
  },
  {
   "cell_type": "code",
   "execution_count": null,
   "metadata": {
    "execution": {
     "iopub.execute_input": "2021-05-31T00:04:54.459706Z",
     "iopub.status.busy": "2021-05-31T00:04:54.459446Z",
     "iopub.status.idle": "2021-05-31T00:04:54.466729Z",
     "shell.execute_reply": "2021-05-31T00:04:54.465709Z",
     "shell.execute_reply.started": "2021-05-31T00:04:54.45968Z"
    }
   },
   "outputs": [],
   "source": [
    "y_pred = np.where(y_pred > .5, \"Dog\", \"Cat\")\n",
    "y_pred"
   ]
  },
  {
   "cell_type": "code",
   "execution_count": null,
   "metadata": {
    "execution": {
     "iopub.execute_input": "2021-05-31T00:04:54.469039Z",
     "iopub.status.busy": "2021-05-31T00:04:54.468251Z",
     "iopub.status.idle": "2021-05-31T00:04:58.959561Z",
     "shell.execute_reply": "2021-05-31T00:04:58.958693Z",
     "shell.execute_reply.started": "2021-05-31T00:04:54.468883Z"
    }
   },
   "outputs": [],
   "source": [
    "plt.figure(figsize=(15,15))\n",
    "for i in range(9):\n",
    "    plt.subplot(3,3,i+1)\n",
    "    plt.imshow(X_test[0][i])\n",
    "    plt.xlabel(y_pred[i])\n",
    "    \n",
    "plt.show()"
   ]
  },
  {
   "cell_type": "code",
   "execution_count": null,
   "metadata": {
    "execution": {
     "iopub.execute_input": "2021-05-31T00:04:58.961434Z",
     "iopub.status.busy": "2021-05-31T00:04:58.961106Z",
     "iopub.status.idle": "2021-05-31T00:04:58.967989Z",
     "shell.execute_reply": "2021-05-31T00:04:58.967254Z",
     "shell.execute_reply.started": "2021-05-31T00:04:58.961401Z"
    }
   },
   "outputs": [],
   "source": [
    "label = np.where(y_pred==\"Cat\", 0, 1)\n",
    "label"
   ]
  },
  {
   "cell_type": "markdown",
   "metadata": {},
   "source": [
    "# 9- Let's submit"
   ]
  },
  {
   "cell_type": "code",
   "execution_count": null,
   "metadata": {
    "execution": {
     "iopub.execute_input": "2021-05-31T00:04:58.969762Z",
     "iopub.status.busy": "2021-05-31T00:04:58.969204Z",
     "iopub.status.idle": "2021-05-31T00:04:58.998653Z",
     "shell.execute_reply": "2021-05-31T00:04:58.99784Z",
     "shell.execute_reply.started": "2021-05-31T00:04:58.969719Z"
    }
   },
   "outputs": [],
   "source": [
    "df_submission = pd.read_csv('../input/dogs-vs-cats/sampleSubmission.csv')\n",
    "df_submission['label'] = label\n",
    "df_submission.head(-5)"
   ]
  },
  {
   "cell_type": "code",
   "execution_count": null,
   "metadata": {
    "execution": {
     "iopub.execute_input": "2021-05-31T00:04:59.000508Z",
     "iopub.status.busy": "2021-05-31T00:04:59.000176Z",
     "iopub.status.idle": "2021-05-31T00:04:59.17372Z",
     "shell.execute_reply": "2021-05-31T00:04:59.173015Z",
     "shell.execute_reply.started": "2021-05-31T00:04:59.000474Z"
    }
   },
   "outputs": [],
   "source": [
    "df_submission.to_csv('submission.csv', index=False)"
   ]
  },
  {
   "cell_type": "code",
   "execution_count": null,
   "metadata": {
    "execution": {
     "iopub.execute_input": "2021-05-31T00:04:59.17549Z",
     "iopub.status.busy": "2021-05-31T00:04:59.175152Z",
     "iopub.status.idle": "2021-05-31T00:04:59.192945Z",
     "shell.execute_reply": "2021-05-31T00:04:59.191958Z",
     "shell.execute_reply.started": "2021-05-31T00:04:59.175455Z"
    }
   },
   "outputs": [],
   "source": [
    "submission = pd.read_csv('./submission.csv')\n",
    "submission.head(-5)"
   ]
  },
  {
   "cell_type": "code",
   "execution_count": null,
   "metadata": {},
   "outputs": [],
   "source": [
    "I have Also Attached the py which will help to give you GUI i have ,a"
   ]
  }
 ],
 "metadata": {
  "kernelspec": {
   "display_name": "Python 3",
   "language": "python",
   "name": "python3"
  },
  "language_info": {
   "codemirror_mode": {
    "name": "ipython",
    "version": 3
   },
   "file_extension": ".py",
   "mimetype": "text/x-python",
   "name": "python",
   "nbconvert_exporter": "python",
   "pygments_lexer": "ipython3",
   "version": "3.7.4"
  }
 },
 "nbformat": 4,
 "nbformat_minor": 4
}
